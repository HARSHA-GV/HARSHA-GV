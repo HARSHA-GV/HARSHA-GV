{
  "nbformat": 4,
  "nbformat_minor": 0,
  "metadata": {
    "colab": {
      "provenance": [],
      "authorship_tag": "ABX9TyOUAXWtQKYW82fW45/YVaWl",
      "include_colab_link": true
    },
    "kernelspec": {
      "name": "python3",
      "display_name": "Python 3"
    },
    "language_info": {
      "name": "python"
    }
  },
  "cells": [
    {
      "cell_type": "markdown",
      "metadata": {
        "id": "view-in-github",
        "colab_type": "text"
      },
      "source": [
        "<a href=\"https://colab.research.google.com/github/HARSHA-GV/HARSHA-GV/blob/main/Untitled0.ipynb\" target=\"_parent\"><img src=\"https://colab.research.google.com/assets/colab-badge.svg\" alt=\"Open In Colab\"/></a>"
      ]
    },
    {
      "cell_type": "code",
      "execution_count": 2,
      "metadata": {
        "colab": {
          "base_uri": "https://localhost:8080/"
        },
        "id": "NVHT4fHsW_sK",
        "outputId": "4695d910-3588-484c-8552-907a0200fe30"
      },
      "outputs": [
        {
          "output_type": "stream",
          "name": "stdout",
          "text": [
            "[==================================================] 100.0% 1662.8/1662.8MB downloaded\n",
            "\n",
            "king - man + woman = ? queen\n",
            "similarity: 0.7118193507194519\n",
            "\n",
            "paris - france + italy = ? lohan\n",
            "similarity: 0.5069674849510193\n",
            "\n",
            "Top 5 words similar to 'programming':\n",
            "programing 0.8606171011924744\n",
            "Programming 0.6899746060371399\n",
            "NLP_neuro_linguistic 0.6174069046974182\n",
            "broadcasts 0.5984179377555847\n",
            "primetime_programming 0.5968459248542786\n"
          ]
        }
      ],
      "source": [
        "from gensim.downloader import load\n",
        "\n",
        "# Load the pre-trained word2vec model (this might take a while)\n",
        "model = load('word2vec-google-news-300')\n",
        "\n",
        "def ewr():\n",
        "    # Example 1: Find analogy for king - man + woman\n",
        "    result = model.most_similar(positive=['king', 'woman'], negative=['man'], topn=1)\n",
        "    print(\"\\nking - man + woman = ?\", result[0][0])\n",
        "    print(\"similarity:\", result[0][1])\n",
        "\n",
        "    # Example 2: Find analogy for paris - france + italy\n",
        "    result = model.most_similar(positive=['paris', 'italy'], negative=['france'], topn=1)\n",
        "    print(\"\\nparis - france + italy = ?\", result[0][0])\n",
        "    print(\"similarity:\", result[0][1])\n",
        "\n",
        "    # Example 3: Find analogies for programming\n",
        "    result = model.most_similar(positive=['programming'], topn=5)\n",
        "    print(\"\\nTop 5 words similar to 'programming':\")\n",
        "    for word, similarity in result:\n",
        "        print(word, similarity)\n",
        "\n",
        "# Call the function\n",
        "ewr()"
      ]
    }
  ]
}